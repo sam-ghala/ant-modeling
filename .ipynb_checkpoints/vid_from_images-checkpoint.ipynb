{
 "cells": [
  {
   "cell_type": "code",
   "execution_count": 4,
   "metadata": {},
   "outputs": [
    {
     "name": "stdout",
     "output_type": "stream",
     "text": [
      "video done\n"
     ]
    }
   ],
   "source": [
    "import cv2\n",
    "import numpy as np\n",
    "import os\n",
    "from os.path import isfile, join\n",
    "import natsort\n",
    "\n",
    "city_name = 'san_fran'\n",
    "try:\n",
    "    os.remove(city_name+\".mp4\")\n",
    "except:\n",
    "    pass\n",
    "pathIn= '/Users/samghala/ant_modeling/images/'+city_name+'/'\n",
    "pathOut = '/Users/samghala/ant_modeling/videos/'+city_name+'.mp4'\n",
    "fps = 2.1\n",
    "frame_array = []\n",
    "# files = [f for f in os.listdir(pathIn) if isfile(join(pathIn, f))]\n",
    "#for sorting the file names properly\n",
    "# files.sort(key = lambda x: x[5:-4])\n",
    "# files.sort()\n",
    "frame_array = []\n",
    "# files = [f for f in os.listdir(pathIn) if isfile(join(pathIn, f))]\n",
    "#for sorting the file names properly\n",
    "images_sorted = natsort.natsorted(os.listdir('/Users/samghala/ant_modeling/images/'+city_name+'/'),reverse=False)\n",
    "# print(images_sorted)\n",
    "for i in range(len(images_sorted)):\n",
    "    try:\n",
    "        filename=pathIn + images_sorted[i]\n",
    "        #reading each files\n",
    "#         print(filename)\n",
    "        img = cv2.imread(filename)\n",
    "        height, width, layers = img.shape\n",
    "        size = (width,height)\n",
    "\n",
    "        #inserting the frames into an image array\n",
    "        frame_array.append(img)\n",
    "    except:\n",
    "        pass\n",
    "out = cv2.VideoWriter(pathOut,cv2.VideoWriter_fourcc(*'DIVX'), fps, size)\n",
    "for i in range(len(frame_array)):\n",
    "    # writing to a image array\n",
    "    out.write(frame_array[i])\n",
    "out.release()\n",
    "print(\"video done\")"
   ]
  },
  {
   "cell_type": "code",
   "execution_count": null,
   "metadata": {},
   "outputs": [],
   "source": []
  }
 ],
 "metadata": {
  "kernelspec": {
   "display_name": "Python 3",
   "language": "python",
   "name": "python3"
  },
  "language_info": {
   "codemirror_mode": {
    "name": "ipython",
    "version": 3
   },
   "file_extension": ".py",
   "mimetype": "text/x-python",
   "name": "python",
   "nbconvert_exporter": "python",
   "pygments_lexer": "ipython3",
   "version": "3.8.5"
  },
  "toc": {
   "base_numbering": 1,
   "nav_menu": {},
   "number_sections": true,
   "sideBar": true,
   "skip_h1_title": false,
   "title_cell": "Table of Contents",
   "title_sidebar": "Contents",
   "toc_cell": false,
   "toc_position": {},
   "toc_section_display": true,
   "toc_window_display": false
  }
 },
 "nbformat": 4,
 "nbformat_minor": 4
}
